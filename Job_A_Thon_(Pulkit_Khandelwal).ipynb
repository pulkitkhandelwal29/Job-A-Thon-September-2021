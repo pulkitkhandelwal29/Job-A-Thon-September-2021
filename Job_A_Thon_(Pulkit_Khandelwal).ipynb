{
  "nbformat": 4,
  "nbformat_minor": 5,
  "metadata": {
    "kernelspec": {
      "display_name": "Python 3",
      "language": "python",
      "name": "python3"
    },
    "language_info": {
      "codemirror_mode": {
        "name": "ipython",
        "version": 3
      },
      "file_extension": ".py",
      "mimetype": "text/x-python",
      "name": "python",
      "nbconvert_exporter": "python",
      "pygments_lexer": "ipython3",
      "version": "3.8.8"
    },
    "colab": {
      "name": "Job-A-Thon (Pulkit Khandelwal).ipynb",
      "provenance": [],
      "collapsed_sections": []
    },
    "accelerator": "GPU"
  },
  "cells": [
    {
      "cell_type": "markdown",
      "metadata": {
        "id": "ffa18117"
      },
      "source": [
        "# JOB-A-THON - September 2021\n",
        "\n",
        "## Pulkit Khandelwal"
      ],
      "id": "ffa18117"
    },
    {
      "cell_type": "markdown",
      "metadata": {
        "id": "20eb0f65"
      },
      "source": [
        "### Importing Libraries"
      ],
      "id": "20eb0f65"
    },
    {
      "cell_type": "code",
      "metadata": {
        "id": "1cd1efe6"
      },
      "source": [
        "import numpy as np\n",
        "import pandas as pd\n",
        "import matplotlib.pyplot as plt\n",
        "%matplotlib inline\n",
        "import seaborn as sns"
      ],
      "id": "1cd1efe6",
      "execution_count": 330,
      "outputs": []
    },
    {
      "cell_type": "markdown",
      "metadata": {
        "id": "bf2598e6"
      },
      "source": [
        "### Reading Data"
      ],
      "id": "bf2598e6"
    },
    {
      "cell_type": "code",
      "metadata": {
        "id": "afa5f727"
      },
      "source": [
        "train_df = pd.read_csv('TRAIN.csv')"
      ],
      "id": "afa5f727",
      "execution_count": 331,
      "outputs": []
    },
    {
      "cell_type": "code",
      "metadata": {
        "id": "7e30ecf6"
      },
      "source": [
        "test_df = pd.read_csv('TEST_FINAL.csv')"
      ],
      "id": "7e30ecf6",
      "execution_count": 332,
      "outputs": []
    },
    {
      "cell_type": "code",
      "metadata": {
        "colab": {
          "base_uri": "https://localhost:8080/",
          "height": 203
        },
        "id": "f47ab267",
        "outputId": "ee5cf4ec-2c57-4292-9d75-0ad4d0aa7ee2"
      },
      "source": [
        "train_df.head()"
      ],
      "id": "f47ab267",
      "execution_count": 333,
      "outputs": [
        {
          "output_type": "execute_result",
          "data": {
            "text/html": [
              "<div>\n",
              "<style scoped>\n",
              "    .dataframe tbody tr th:only-of-type {\n",
              "        vertical-align: middle;\n",
              "    }\n",
              "\n",
              "    .dataframe tbody tr th {\n",
              "        vertical-align: top;\n",
              "    }\n",
              "\n",
              "    .dataframe thead th {\n",
              "        text-align: right;\n",
              "    }\n",
              "</style>\n",
              "<table border=\"1\" class=\"dataframe\">\n",
              "  <thead>\n",
              "    <tr style=\"text-align: right;\">\n",
              "      <th></th>\n",
              "      <th>ID</th>\n",
              "      <th>Store_id</th>\n",
              "      <th>Store_Type</th>\n",
              "      <th>Location_Type</th>\n",
              "      <th>Region_Code</th>\n",
              "      <th>Date</th>\n",
              "      <th>Holiday</th>\n",
              "      <th>Discount</th>\n",
              "      <th>#Order</th>\n",
              "      <th>Sales</th>\n",
              "    </tr>\n",
              "  </thead>\n",
              "  <tbody>\n",
              "    <tr>\n",
              "      <th>0</th>\n",
              "      <td>T1000001</td>\n",
              "      <td>1</td>\n",
              "      <td>S1</td>\n",
              "      <td>L3</td>\n",
              "      <td>R1</td>\n",
              "      <td>2018-01-01</td>\n",
              "      <td>1</td>\n",
              "      <td>Yes</td>\n",
              "      <td>9</td>\n",
              "      <td>7011.84</td>\n",
              "    </tr>\n",
              "    <tr>\n",
              "      <th>1</th>\n",
              "      <td>T1000002</td>\n",
              "      <td>253</td>\n",
              "      <td>S4</td>\n",
              "      <td>L2</td>\n",
              "      <td>R1</td>\n",
              "      <td>2018-01-01</td>\n",
              "      <td>1</td>\n",
              "      <td>Yes</td>\n",
              "      <td>60</td>\n",
              "      <td>51789.12</td>\n",
              "    </tr>\n",
              "    <tr>\n",
              "      <th>2</th>\n",
              "      <td>T1000003</td>\n",
              "      <td>252</td>\n",
              "      <td>S3</td>\n",
              "      <td>L2</td>\n",
              "      <td>R1</td>\n",
              "      <td>2018-01-01</td>\n",
              "      <td>1</td>\n",
              "      <td>Yes</td>\n",
              "      <td>42</td>\n",
              "      <td>36868.20</td>\n",
              "    </tr>\n",
              "    <tr>\n",
              "      <th>3</th>\n",
              "      <td>T1000004</td>\n",
              "      <td>251</td>\n",
              "      <td>S2</td>\n",
              "      <td>L3</td>\n",
              "      <td>R1</td>\n",
              "      <td>2018-01-01</td>\n",
              "      <td>1</td>\n",
              "      <td>Yes</td>\n",
              "      <td>23</td>\n",
              "      <td>19715.16</td>\n",
              "    </tr>\n",
              "    <tr>\n",
              "      <th>4</th>\n",
              "      <td>T1000005</td>\n",
              "      <td>250</td>\n",
              "      <td>S2</td>\n",
              "      <td>L3</td>\n",
              "      <td>R4</td>\n",
              "      <td>2018-01-01</td>\n",
              "      <td>1</td>\n",
              "      <td>Yes</td>\n",
              "      <td>62</td>\n",
              "      <td>45614.52</td>\n",
              "    </tr>\n",
              "  </tbody>\n",
              "</table>\n",
              "</div>"
            ],
            "text/plain": [
              "         ID  Store_id Store_Type  ... Discount #Order     Sales\n",
              "0  T1000001         1         S1  ...      Yes      9   7011.84\n",
              "1  T1000002       253         S4  ...      Yes     60  51789.12\n",
              "2  T1000003       252         S3  ...      Yes     42  36868.20\n",
              "3  T1000004       251         S2  ...      Yes     23  19715.16\n",
              "4  T1000005       250         S2  ...      Yes     62  45614.52\n",
              "\n",
              "[5 rows x 10 columns]"
            ]
          },
          "metadata": {},
          "execution_count": 333
        }
      ]
    },
    {
      "cell_type": "markdown",
      "metadata": {
        "id": "4185bb0f"
      },
      "source": [
        "## Exploratory Data Analysis"
      ],
      "id": "4185bb0f"
    },
    {
      "cell_type": "markdown",
      "metadata": {
        "id": "2d81ae21"
      },
      "source": [
        "### Information about the dataset"
      ],
      "id": "2d81ae21"
    },
    {
      "cell_type": "code",
      "metadata": {
        "colab": {
          "base_uri": "https://localhost:8080/"
        },
        "id": "1b04d226",
        "outputId": "439f9a0f-bd71-4e2a-eaa6-9bea8db20b41"
      },
      "source": [
        "train_df.info()"
      ],
      "id": "1b04d226",
      "execution_count": 334,
      "outputs": [
        {
          "output_type": "stream",
          "name": "stdout",
          "text": [
            "<class 'pandas.core.frame.DataFrame'>\n",
            "RangeIndex: 188340 entries, 0 to 188339\n",
            "Data columns (total 10 columns):\n",
            " #   Column         Non-Null Count   Dtype  \n",
            "---  ------         --------------   -----  \n",
            " 0   ID             188340 non-null  object \n",
            " 1   Store_id       188340 non-null  int64  \n",
            " 2   Store_Type     188340 non-null  object \n",
            " 3   Location_Type  188340 non-null  object \n",
            " 4   Region_Code    188340 non-null  object \n",
            " 5   Date           188340 non-null  object \n",
            " 6   Holiday        188340 non-null  int64  \n",
            " 7   Discount       188340 non-null  object \n",
            " 8   #Order         188340 non-null  int64  \n",
            " 9   Sales          188340 non-null  float64\n",
            "dtypes: float64(1), int64(3), object(6)\n",
            "memory usage: 14.4+ MB\n"
          ]
        }
      ]
    },
    {
      "cell_type": "code",
      "metadata": {
        "colab": {
          "base_uri": "https://localhost:8080/"
        },
        "id": "de38dc00",
        "outputId": "528058c7-c1dd-400a-dfda-f94065ca7a54"
      },
      "source": [
        "test_df.info()"
      ],
      "id": "de38dc00",
      "execution_count": 335,
      "outputs": [
        {
          "output_type": "stream",
          "name": "stdout",
          "text": [
            "<class 'pandas.core.frame.DataFrame'>\n",
            "RangeIndex: 22265 entries, 0 to 22264\n",
            "Data columns (total 8 columns):\n",
            " #   Column         Non-Null Count  Dtype \n",
            "---  ------         --------------  ----- \n",
            " 0   ID             22265 non-null  object\n",
            " 1   Store_id       22265 non-null  int64 \n",
            " 2   Store_Type     22265 non-null  object\n",
            " 3   Location_Type  22265 non-null  object\n",
            " 4   Region_Code    22265 non-null  object\n",
            " 5   Date           22265 non-null  object\n",
            " 6   Holiday        22265 non-null  int64 \n",
            " 7   Discount       22265 non-null  object\n",
            "dtypes: int64(2), object(6)\n",
            "memory usage: 1.4+ MB\n"
          ]
        }
      ]
    },
    {
      "cell_type": "markdown",
      "metadata": {
        "id": "5206f55f"
      },
      "source": [
        "### Statistical Description about the dataset"
      ],
      "id": "5206f55f"
    },
    {
      "cell_type": "code",
      "metadata": {
        "colab": {
          "base_uri": "https://localhost:8080/",
          "height": 295
        },
        "id": "63e29486",
        "outputId": "38b7b3a3-20fc-48aa-d8d4-bacd34b16245"
      },
      "source": [
        "train_df.describe()"
      ],
      "id": "63e29486",
      "execution_count": 336,
      "outputs": [
        {
          "output_type": "execute_result",
          "data": {
            "text/html": [
              "<div>\n",
              "<style scoped>\n",
              "    .dataframe tbody tr th:only-of-type {\n",
              "        vertical-align: middle;\n",
              "    }\n",
              "\n",
              "    .dataframe tbody tr th {\n",
              "        vertical-align: top;\n",
              "    }\n",
              "\n",
              "    .dataframe thead th {\n",
              "        text-align: right;\n",
              "    }\n",
              "</style>\n",
              "<table border=\"1\" class=\"dataframe\">\n",
              "  <thead>\n",
              "    <tr style=\"text-align: right;\">\n",
              "      <th></th>\n",
              "      <th>Store_id</th>\n",
              "      <th>Holiday</th>\n",
              "      <th>#Order</th>\n",
              "      <th>Sales</th>\n",
              "    </tr>\n",
              "  </thead>\n",
              "  <tbody>\n",
              "    <tr>\n",
              "      <th>count</th>\n",
              "      <td>188340.000000</td>\n",
              "      <td>188340.000000</td>\n",
              "      <td>188340.000000</td>\n",
              "      <td>188340.000000</td>\n",
              "    </tr>\n",
              "    <tr>\n",
              "      <th>mean</th>\n",
              "      <td>183.000000</td>\n",
              "      <td>0.131783</td>\n",
              "      <td>68.205692</td>\n",
              "      <td>42784.327982</td>\n",
              "    </tr>\n",
              "    <tr>\n",
              "      <th>std</th>\n",
              "      <td>105.366308</td>\n",
              "      <td>0.338256</td>\n",
              "      <td>30.467415</td>\n",
              "      <td>18456.708302</td>\n",
              "    </tr>\n",
              "    <tr>\n",
              "      <th>min</th>\n",
              "      <td>1.000000</td>\n",
              "      <td>0.000000</td>\n",
              "      <td>0.000000</td>\n",
              "      <td>0.000000</td>\n",
              "    </tr>\n",
              "    <tr>\n",
              "      <th>25%</th>\n",
              "      <td>92.000000</td>\n",
              "      <td>0.000000</td>\n",
              "      <td>48.000000</td>\n",
              "      <td>30426.000000</td>\n",
              "    </tr>\n",
              "    <tr>\n",
              "      <th>50%</th>\n",
              "      <td>183.000000</td>\n",
              "      <td>0.000000</td>\n",
              "      <td>63.000000</td>\n",
              "      <td>39678.000000</td>\n",
              "    </tr>\n",
              "    <tr>\n",
              "      <th>75%</th>\n",
              "      <td>274.000000</td>\n",
              "      <td>0.000000</td>\n",
              "      <td>82.000000</td>\n",
              "      <td>51909.000000</td>\n",
              "    </tr>\n",
              "    <tr>\n",
              "      <th>max</th>\n",
              "      <td>365.000000</td>\n",
              "      <td>1.000000</td>\n",
              "      <td>371.000000</td>\n",
              "      <td>247215.000000</td>\n",
              "    </tr>\n",
              "  </tbody>\n",
              "</table>\n",
              "</div>"
            ],
            "text/plain": [
              "            Store_id        Holiday         #Order          Sales\n",
              "count  188340.000000  188340.000000  188340.000000  188340.000000\n",
              "mean      183.000000       0.131783      68.205692   42784.327982\n",
              "std       105.366308       0.338256      30.467415   18456.708302\n",
              "min         1.000000       0.000000       0.000000       0.000000\n",
              "25%        92.000000       0.000000      48.000000   30426.000000\n",
              "50%       183.000000       0.000000      63.000000   39678.000000\n",
              "75%       274.000000       0.000000      82.000000   51909.000000\n",
              "max       365.000000       1.000000     371.000000  247215.000000"
            ]
          },
          "metadata": {},
          "execution_count": 336
        }
      ]
    },
    {
      "cell_type": "code",
      "metadata": {
        "colab": {
          "base_uri": "https://localhost:8080/",
          "height": 295
        },
        "id": "ddada738",
        "outputId": "ad1fc76f-d80b-4081-fde4-020a88dbab63"
      },
      "source": [
        "test_df.describe()"
      ],
      "id": "ddada738",
      "execution_count": 337,
      "outputs": [
        {
          "output_type": "execute_result",
          "data": {
            "text/html": [
              "<div>\n",
              "<style scoped>\n",
              "    .dataframe tbody tr th:only-of-type {\n",
              "        vertical-align: middle;\n",
              "    }\n",
              "\n",
              "    .dataframe tbody tr th {\n",
              "        vertical-align: top;\n",
              "    }\n",
              "\n",
              "    .dataframe thead th {\n",
              "        text-align: right;\n",
              "    }\n",
              "</style>\n",
              "<table border=\"1\" class=\"dataframe\">\n",
              "  <thead>\n",
              "    <tr style=\"text-align: right;\">\n",
              "      <th></th>\n",
              "      <th>Store_id</th>\n",
              "      <th>Holiday</th>\n",
              "    </tr>\n",
              "  </thead>\n",
              "  <tbody>\n",
              "    <tr>\n",
              "      <th>count</th>\n",
              "      <td>22265.000000</td>\n",
              "      <td>22265.000000</td>\n",
              "    </tr>\n",
              "    <tr>\n",
              "      <th>mean</th>\n",
              "      <td>183.000000</td>\n",
              "      <td>0.032787</td>\n",
              "    </tr>\n",
              "    <tr>\n",
              "      <th>std</th>\n",
              "      <td>105.368395</td>\n",
              "      <td>0.178082</td>\n",
              "    </tr>\n",
              "    <tr>\n",
              "      <th>min</th>\n",
              "      <td>1.000000</td>\n",
              "      <td>0.000000</td>\n",
              "    </tr>\n",
              "    <tr>\n",
              "      <th>25%</th>\n",
              "      <td>92.000000</td>\n",
              "      <td>0.000000</td>\n",
              "    </tr>\n",
              "    <tr>\n",
              "      <th>50%</th>\n",
              "      <td>183.000000</td>\n",
              "      <td>0.000000</td>\n",
              "    </tr>\n",
              "    <tr>\n",
              "      <th>75%</th>\n",
              "      <td>274.000000</td>\n",
              "      <td>0.000000</td>\n",
              "    </tr>\n",
              "    <tr>\n",
              "      <th>max</th>\n",
              "      <td>365.000000</td>\n",
              "      <td>1.000000</td>\n",
              "    </tr>\n",
              "  </tbody>\n",
              "</table>\n",
              "</div>"
            ],
            "text/plain": [
              "           Store_id       Holiday\n",
              "count  22265.000000  22265.000000\n",
              "mean     183.000000      0.032787\n",
              "std      105.368395      0.178082\n",
              "min        1.000000      0.000000\n",
              "25%       92.000000      0.000000\n",
              "50%      183.000000      0.000000\n",
              "75%      274.000000      0.000000\n",
              "max      365.000000      1.000000"
            ]
          },
          "metadata": {},
          "execution_count": 337
        }
      ]
    },
    {
      "cell_type": "markdown",
      "metadata": {
        "id": "5a1c8db4"
      },
      "source": [
        "### Finding if Missing Values?"
      ],
      "id": "5a1c8db4"
    },
    {
      "cell_type": "code",
      "metadata": {
        "colab": {
          "base_uri": "https://localhost:8080/"
        },
        "id": "e257b19c",
        "outputId": "7a3bb1ee-bb23-411c-be0e-6d37ab1f4db2"
      },
      "source": [
        "train_df.isnull().sum()"
      ],
      "id": "e257b19c",
      "execution_count": 338,
      "outputs": [
        {
          "output_type": "execute_result",
          "data": {
            "text/plain": [
              "ID               0\n",
              "Store_id         0\n",
              "Store_Type       0\n",
              "Location_Type    0\n",
              "Region_Code      0\n",
              "Date             0\n",
              "Holiday          0\n",
              "Discount         0\n",
              "#Order           0\n",
              "Sales            0\n",
              "dtype: int64"
            ]
          },
          "metadata": {},
          "execution_count": 338
        }
      ]
    },
    {
      "cell_type": "code",
      "metadata": {
        "colab": {
          "base_uri": "https://localhost:8080/"
        },
        "id": "a16ef4d1",
        "outputId": "d85bca3b-e7a3-4f5d-8309-17ff8a61c386"
      },
      "source": [
        "test_df.isnull().sum()"
      ],
      "id": "a16ef4d1",
      "execution_count": 339,
      "outputs": [
        {
          "output_type": "execute_result",
          "data": {
            "text/plain": [
              "ID               0\n",
              "Store_id         0\n",
              "Store_Type       0\n",
              "Location_Type    0\n",
              "Region_Code      0\n",
              "Date             0\n",
              "Holiday          0\n",
              "Discount         0\n",
              "dtype: int64"
            ]
          },
          "metadata": {},
          "execution_count": 339
        }
      ]
    },
    {
      "cell_type": "markdown",
      "metadata": {
        "id": "-ui6clY0uAzh"
      },
      "source": [
        "No missing values found !"
      ],
      "id": "-ui6clY0uAzh"
    },
    {
      "cell_type": "markdown",
      "metadata": {
        "id": "750afe20"
      },
      "source": [
        "### Shape of Dataset"
      ],
      "id": "750afe20"
    },
    {
      "cell_type": "code",
      "metadata": {
        "colab": {
          "base_uri": "https://localhost:8080/"
        },
        "id": "2fa9f12a",
        "outputId": "46a69516-d2f8-423f-d4ba-f626caa1addd"
      },
      "source": [
        "train_df.shape"
      ],
      "id": "2fa9f12a",
      "execution_count": 340,
      "outputs": [
        {
          "output_type": "execute_result",
          "data": {
            "text/plain": [
              "(188340, 10)"
            ]
          },
          "metadata": {},
          "execution_count": 340
        }
      ]
    },
    {
      "cell_type": "code",
      "metadata": {
        "colab": {
          "base_uri": "https://localhost:8080/"
        },
        "id": "d900750a",
        "outputId": "9a083854-dbf1-4f68-aee2-cd769e03aeed"
      },
      "source": [
        "test_df.shape"
      ],
      "id": "d900750a",
      "execution_count": 341,
      "outputs": [
        {
          "output_type": "execute_result",
          "data": {
            "text/plain": [
              "(22265, 8)"
            ]
          },
          "metadata": {},
          "execution_count": 341
        }
      ]
    },
    {
      "cell_type": "markdown",
      "metadata": {
        "id": "94c6944a"
      },
      "source": [
        "### Columns"
      ],
      "id": "94c6944a"
    },
    {
      "cell_type": "code",
      "metadata": {
        "colab": {
          "base_uri": "https://localhost:8080/"
        },
        "id": "7258d1d3",
        "outputId": "2f76d470-78e0-4f65-daae-043ce152ef50"
      },
      "source": [
        "train_df.columns"
      ],
      "id": "7258d1d3",
      "execution_count": 342,
      "outputs": [
        {
          "output_type": "execute_result",
          "data": {
            "text/plain": [
              "Index(['ID', 'Store_id', 'Store_Type', 'Location_Type', 'Region_Code', 'Date',\n",
              "       'Holiday', 'Discount', '#Order', 'Sales'],\n",
              "      dtype='object')"
            ]
          },
          "metadata": {},
          "execution_count": 342
        }
      ]
    },
    {
      "cell_type": "code",
      "metadata": {
        "colab": {
          "base_uri": "https://localhost:8080/"
        },
        "id": "a50c84ed",
        "outputId": "0c46beb4-3d96-4a73-effb-3fac49895880"
      },
      "source": [
        "test_df.columns"
      ],
      "id": "a50c84ed",
      "execution_count": 343,
      "outputs": [
        {
          "output_type": "execute_result",
          "data": {
            "text/plain": [
              "Index(['ID', 'Store_id', 'Store_Type', 'Location_Type', 'Region_Code', 'Date',\n",
              "       'Holiday', 'Discount'],\n",
              "      dtype='object')"
            ]
          },
          "metadata": {},
          "execution_count": 343
        }
      ]
    },
    {
      "cell_type": "code",
      "metadata": {
        "colab": {
          "base_uri": "https://localhost:8080/",
          "height": 297
        },
        "id": "tCkkMjYZ8N_C",
        "outputId": "3021f137-e1dc-4161-bf71-72cb8c7756fb"
      },
      "source": [
        "ax = sns.barplot(x=\"Store_Type\", y=\"Sales\", data=train_df)\n",
        "plt.plot()"
      ],
      "id": "tCkkMjYZ8N_C",
      "execution_count": 344,
      "outputs": [
        {
          "output_type": "execute_result",
          "data": {
            "text/plain": [
              "[]"
            ]
          },
          "metadata": {},
          "execution_count": 344
        },
        {
          "output_type": "display_data",
          "data": {
            "image/png": "[encoded data removed]",
            "text/plain": [
              "<Figure size 432x288 with 1 Axes>"
            ]
          },
          "metadata": {
            "needs_background": "light"
          }
        }
      ]
    },
    {
      "cell_type": "markdown",
      "metadata": {
        "id": "_785AHwv8mCY"
      },
      "source": [
        "**S4 has higher sales**"
      ],
      "id": "_785AHwv8mCY"
    },
    {
      "cell_type": "code",
      "metadata": {
        "colab": {
          "base_uri": "https://localhost:8080/",
          "height": 297
        },
        "id": "MG4xU4bc8sCQ",
        "outputId": "bd5be1d4-5daf-4230-9e37-4971a8cbdc31"
      },
      "source": [
        "ax = sns.barplot(x=\"Location_Type\", y=\"Sales\", data=train_df)\n",
        "plt.plot()"
      ],
      "id": "MG4xU4bc8sCQ",
      "execution_count": 345,
      "outputs": [
        {
          "output_type": "execute_result",
          "data": {
            "text/plain": [
              "[]"
            ]
          },
          "metadata": {},
          "execution_count": 345
        },
        {
          "output_type": "display_data",
          "data": {
            "image/png": "[encoded data removed]",
            "text/plain": [
              "<Figure size 432x288 with 1 Axes>"
            ]
          },
          "metadata": {
            "needs_background": "light"
          }
        }
      ]
    },
    {
      "cell_type": "markdown",
      "metadata": {
        "id": "YeiD2Yx380Ay"
      },
      "source": [
        "**L2 has higher sales**"
      ],
      "id": "YeiD2Yx380Ay"
    },
    {
      "cell_type": "code",
      "metadata": {
        "colab": {
          "base_uri": "https://localhost:8080/",
          "height": 297
        },
        "id": "_q7GMOYD890c",
        "outputId": "2dd22599-51b7-47d8-e807-3fe98a3868eb"
      },
      "source": [
        "ax = sns.barplot(x=\"Region_Code\", y=\"Sales\", data=train_df)\n",
        "plt.plot()"
      ],
      "id": "_q7GMOYD890c",
      "execution_count": 347,
      "outputs": [
        {
          "output_type": "execute_result",
          "data": {
            "text/plain": [
              "[]"
            ]
          },
          "metadata": {},
          "execution_count": 347
        },
        {
          "output_type": "display_data",
          "data": {
            "image/png": "[encoded data removed]",
            "text/plain": [
              "<Figure size 432x288 with 1 Axes>"
            ]
          },
          "metadata": {
            "needs_background": "light"
          }
        }
      ]
    },
    {
      "cell_type": "markdown",
      "metadata": {
        "id": "BL7m0A0588nR"
      },
      "source": [
        "**All regions almost has equal some amount of salaries**"
      ],
      "id": "BL7m0A0588nR"
    },
    {
      "cell_type": "code",
      "metadata": {
        "colab": {
          "base_uri": "https://localhost:8080/",
          "height": 296
        },
        "id": "ufrraC-s9Eij",
        "outputId": "fd66b4b5-b46c-41f0-cd60-12ea0d2b9eff"
      },
      "source": [
        "ax = sns.barplot(x=train_df['Discount'], y=train_df['Sales'])\n",
        "plt.plot()"
      ],
      "id": "ufrraC-s9Eij",
      "execution_count": 350,
      "outputs": [
        {
          "output_type": "execute_result",
          "data": {
            "text/plain": [
              "[]"
            ]
          },
          "metadata": {},
          "execution_count": 350
        },
        {
          "output_type": "display_data",
          "data": {
            "image/png": "[encoded data removed]",
            "text/plain": [
              "<Figure size 432x288 with 1 Axes>"
            ]
          },
          "metadata": {
            "needs_background": "light"
          }
        }
      ]
    },
    {
      "cell_type": "markdown",
      "metadata": {
        "id": "c4c016PB9V4N"
      },
      "source": [
        "**Sales increased when there is a discount**"
      ],
      "id": "c4c016PB9V4N"
    },
    {
      "cell_type": "markdown",
      "metadata": {
        "id": "f862bdf8"
      },
      "source": [
        "## Data Preprocessing"
      ],
      "id": "f862bdf8"
    },
    {
      "cell_type": "markdown",
      "metadata": {
        "id": "36c53582"
      },
      "source": [
        "### Dropping Columns"
      ],
      "id": "36c53582"
    },
    {
      "cell_type": "code",
      "metadata": {
        "id": "58e0a648"
      },
      "source": [
        "train_df.drop(['ID','#Order','Date'],axis=1,inplace=True)\n",
        "test_df.drop(['ID','Date'],axis=1,inplace=True)"
      ],
      "id": "58e0a648",
      "execution_count": 277,
      "outputs": []
    },
    {
      "cell_type": "markdown",
      "metadata": {
        "id": "DB0BKQFGuPGh"
      },
      "source": [
        "### Handling Categorical Variables"
      ],
      "id": "DB0BKQFGuPGh"
    },
    {
      "cell_type": "code",
      "metadata": {
        "id": "b8f19d9f"
      },
      "source": [
        "from sklearn.preprocessing import LabelEncoder"
      ],
      "id": "b8f19d9f",
      "execution_count": 278,
      "outputs": []
    },
    {
      "cell_type": "code",
      "metadata": {
        "id": "1ea7d652"
      },
      "source": [
        "encoder = LabelEncoder()\n",
        "\n",
        "for i in train_df.columns: \n",
        "    if train_df[i].dtype == 'object': \n",
        "        encoder.fit(list(train_df[i].values)) \n",
        "        train_df[i] = encoder.transform(train_df[i].values)\n",
        "         \n",
        "for j in train_df.columns: \n",
        "    if train_df[j].dtype == 'int':\n",
        "        train_df[j] = train_df[j].astype('float64')"
      ],
      "id": "1ea7d652",
      "execution_count": 279,
      "outputs": []
    },
    {
      "cell_type": "code",
      "metadata": {
        "colab": {
          "base_uri": "https://localhost:8080/",
          "height": 203
        },
        "id": "de53b60e",
        "outputId": "dd952ee2-4956-49e7-f978-3fe41b16966a"
      },
      "source": [
        "train_df.head()"
      ],
      "id": "de53b60e",
      "execution_count": 280,
      "outputs": [
        {
          "output_type": "execute_result",
          "data": {
            "text/html": [
              "<div>\n",
              "<style scoped>\n",
              "    .dataframe tbody tr th:only-of-type {\n",
              "        vertical-align: middle;\n",
              "    }\n",
              "\n",
              "    .dataframe tbody tr th {\n",
              "        vertical-align: top;\n",
              "    }\n",
              "\n",
              "    .dataframe thead th {\n",
              "        text-align: right;\n",
              "    }\n",
              "</style>\n",
              "<table border=\"1\" class=\"dataframe\">\n",
              "  <thead>\n",
              "    <tr style=\"text-align: right;\">\n",
              "      <th></th>\n",
              "      <th>Store_id</th>\n",
              "      <th>Store_Type</th>\n",
              "      <th>Location_Type</th>\n",
              "      <th>Region_Code</th>\n",
              "      <th>Holiday</th>\n",
              "      <th>Discount</th>\n",
              "      <th>Sales</th>\n",
              "    </tr>\n",
              "  </thead>\n",
              "  <tbody>\n",
              "    <tr>\n",
              "      <th>0</th>\n",
              "      <td>1.0</td>\n",
              "      <td>0.0</td>\n",
              "      <td>2.0</td>\n",
              "      <td>0.0</td>\n",
              "      <td>1.0</td>\n",
              "      <td>1.0</td>\n",
              "      <td>7011.84</td>\n",
              "    </tr>\n",
              "    <tr>\n",
              "      <th>1</th>\n",
              "      <td>253.0</td>\n",
              "      <td>3.0</td>\n",
              "      <td>1.0</td>\n",
              "      <td>0.0</td>\n",
              "      <td>1.0</td>\n",
              "      <td>1.0</td>\n",
              "      <td>51789.12</td>\n",
              "    </tr>\n",
              "    <tr>\n",
              "      <th>2</th>\n",
              "      <td>252.0</td>\n",
              "      <td>2.0</td>\n",
              "      <td>1.0</td>\n",
              "      <td>0.0</td>\n",
              "      <td>1.0</td>\n",
              "      <td>1.0</td>\n",
              "      <td>36868.20</td>\n",
              "    </tr>\n",
              "    <tr>\n",
              "      <th>3</th>\n",
              "      <td>251.0</td>\n",
              "      <td>1.0</td>\n",
              "      <td>2.0</td>\n",
              "      <td>0.0</td>\n",
              "      <td>1.0</td>\n",
              "      <td>1.0</td>\n",
              "      <td>19715.16</td>\n",
              "    </tr>\n",
              "    <tr>\n",
              "      <th>4</th>\n",
              "      <td>250.0</td>\n",
              "      <td>1.0</td>\n",
              "      <td>2.0</td>\n",
              "      <td>3.0</td>\n",
              "      <td>1.0</td>\n",
              "      <td>1.0</td>\n",
              "      <td>45614.52</td>\n",
              "    </tr>\n",
              "  </tbody>\n",
              "</table>\n",
              "</div>"
            ],
            "text/plain": [
              "   Store_id  Store_Type  Location_Type  ...  Holiday  Discount     Sales\n",
              "0       1.0         0.0            2.0  ...      1.0       1.0   7011.84\n",
              "1     253.0         3.0            1.0  ...      1.0       1.0  51789.12\n",
              "2     252.0         2.0            1.0  ...      1.0       1.0  36868.20\n",
              "3     251.0         1.0            2.0  ...      1.0       1.0  19715.16\n",
              "4     250.0         1.0            2.0  ...      1.0       1.0  45614.52\n",
              "\n",
              "[5 rows x 7 columns]"
            ]
          },
          "metadata": {},
          "execution_count": 280
        }
      ]
    },
    {
      "cell_type": "code",
      "metadata": {
        "id": "00e14f05"
      },
      "source": [
        "for k in test_df.columns: \n",
        "    if test_df[k].dtype == 'object': \n",
        "        encoder.fit_transform(list(test_df[k].values))\n",
        "        test_df[k] = encoder.transform(test_df[k].values) \n",
        "         \n",
        "for m in test_df.columns: \n",
        "    if test_df[m].dtype == 'int':\n",
        "        test_df[m] = test_df[m].astype('float64') "
      ],
      "id": "00e14f05",
      "execution_count": 281,
      "outputs": []
    },
    {
      "cell_type": "code",
      "metadata": {
        "colab": {
          "base_uri": "https://localhost:8080/",
          "height": 203
        },
        "id": "00e713ec",
        "outputId": "f88d0815-99bc-45d9-bcbf-f8ed19ded485"
      },
      "source": [
        "test_df.head()"
      ],
      "id": "00e713ec",
      "execution_count": 282,
      "outputs": [
        {
          "output_type": "execute_result",
          "data": {
            "text/html": [
              "<div>\n",
              "<style scoped>\n",
              "    .dataframe tbody tr th:only-of-type {\n",
              "        vertical-align: middle;\n",
              "    }\n",
              "\n",
              "    .dataframe tbody tr th {\n",
              "        vertical-align: top;\n",
              "    }\n",
              "\n",
              "    .dataframe thead th {\n",
              "        text-align: right;\n",
              "    }\n",
              "</style>\n",
              "<table border=\"1\" class=\"dataframe\">\n",
              "  <thead>\n",
              "    <tr style=\"text-align: right;\">\n",
              "      <th></th>\n",
              "      <th>Store_id</th>\n",
              "      <th>Store_Type</th>\n",
              "      <th>Location_Type</th>\n",
              "      <th>Region_Code</th>\n",
              "      <th>Holiday</th>\n",
              "      <th>Discount</th>\n",
              "    </tr>\n",
              "  </thead>\n",
              "  <tbody>\n",
              "    <tr>\n",
              "      <th>0</th>\n",
              "      <td>171.0</td>\n",
              "      <td>3.0</td>\n",
              "      <td>1.0</td>\n",
              "      <td>2.0</td>\n",
              "      <td>0.0</td>\n",
              "      <td>0.0</td>\n",
              "    </tr>\n",
              "    <tr>\n",
              "      <th>1</th>\n",
              "      <td>172.0</td>\n",
              "      <td>0.0</td>\n",
              "      <td>0.0</td>\n",
              "      <td>0.0</td>\n",
              "      <td>0.0</td>\n",
              "      <td>0.0</td>\n",
              "    </tr>\n",
              "    <tr>\n",
              "      <th>2</th>\n",
              "      <td>173.0</td>\n",
              "      <td>3.0</td>\n",
              "      <td>1.0</td>\n",
              "      <td>0.0</td>\n",
              "      <td>0.0</td>\n",
              "      <td>0.0</td>\n",
              "    </tr>\n",
              "    <tr>\n",
              "      <th>3</th>\n",
              "      <td>174.0</td>\n",
              "      <td>0.0</td>\n",
              "      <td>0.0</td>\n",
              "      <td>3.0</td>\n",
              "      <td>0.0</td>\n",
              "      <td>0.0</td>\n",
              "    </tr>\n",
              "    <tr>\n",
              "      <th>4</th>\n",
              "      <td>170.0</td>\n",
              "      <td>0.0</td>\n",
              "      <td>0.0</td>\n",
              "      <td>1.0</td>\n",
              "      <td>0.0</td>\n",
              "      <td>0.0</td>\n",
              "    </tr>\n",
              "  </tbody>\n",
              "</table>\n",
              "</div>"
            ],
            "text/plain": [
              "   Store_id  Store_Type  Location_Type  Region_Code  Holiday  Discount\n",
              "0     171.0         3.0            1.0          2.0      0.0       0.0\n",
              "1     172.0         0.0            0.0          0.0      0.0       0.0\n",
              "2     173.0         3.0            1.0          0.0      0.0       0.0\n",
              "3     174.0         0.0            0.0          3.0      0.0       0.0\n",
              "4     170.0         0.0            0.0          1.0      0.0       0.0"
            ]
          },
          "metadata": {},
          "execution_count": 282
        }
      ]
    },
    {
      "cell_type": "markdown",
      "metadata": {
        "id": "fceed56f"
      },
      "source": [
        "### Analyzing data in columns"
      ],
      "id": "fceed56f"
    },
    {
      "cell_type": "code",
      "metadata": {
        "colab": {
          "base_uri": "https://localhost:8080/"
        },
        "id": "4f69340a",
        "outputId": "8662c31d-9d75-4c30-c8b4-45c51acb6e66"
      },
      "source": [
        "train_df['Store_Type'].value_counts()"
      ],
      "id": "4f69340a",
      "execution_count": 283,
      "outputs": [
        {
          "output_type": "execute_result",
          "data": {
            "text/plain": [
              "0.0    88752\n",
              "3.0    45924\n",
              "1.0    28896\n",
              "2.0    24768\n",
              "Name: Store_Type, dtype: int64"
            ]
          },
          "metadata": {},
          "execution_count": 283
        }
      ]
    },
    {
      "cell_type": "code",
      "metadata": {
        "colab": {
          "base_uri": "https://localhost:8080/"
        },
        "id": "4508f0c9",
        "outputId": "42f17c26-6a4c-4948-db68-238409c7d19a"
      },
      "source": [
        "train_df['Region_Code'].value_counts()"
      ],
      "id": "4508f0c9",
      "execution_count": 284,
      "outputs": [
        {
          "output_type": "execute_result",
          "data": {
            "text/plain": [
              "0.0    63984\n",
              "1.0    54180\n",
              "2.0    44376\n",
              "3.0    25800\n",
              "Name: Region_Code, dtype: int64"
            ]
          },
          "metadata": {},
          "execution_count": 284
        }
      ]
    },
    {
      "cell_type": "code",
      "metadata": {
        "colab": {
          "base_uri": "https://localhost:8080/"
        },
        "id": "5e519025",
        "outputId": "6f987e73-baec-460d-89eb-2f071c18cd7a"
      },
      "source": [
        "train_df['Holiday'].value_counts()"
      ],
      "id": "5e519025",
      "execution_count": 285,
      "outputs": [
        {
          "output_type": "execute_result",
          "data": {
            "text/plain": [
              "0.0    163520\n",
              "1.0     24820\n",
              "Name: Holiday, dtype: int64"
            ]
          },
          "metadata": {},
          "execution_count": 285
        }
      ]
    },
    {
      "cell_type": "code",
      "metadata": {
        "colab": {
          "base_uri": "https://localhost:8080/"
        },
        "id": "298273c5",
        "outputId": "33f0350d-77eb-4ecd-8b6f-fa1486eaca20"
      },
      "source": [
        "train_df['Discount'].value_counts()"
      ],
      "id": "298273c5",
      "execution_count": 286,
      "outputs": [
        {
          "output_type": "execute_result",
          "data": {
            "text/plain": [
              "0.0    104051\n",
              "1.0     84289\n",
              "Name: Discount, dtype: int64"
            ]
          },
          "metadata": {},
          "execution_count": 286
        }
      ]
    },
    {
      "cell_type": "markdown",
      "metadata": {
        "id": "c700b948"
      },
      "source": [
        "## Model Building"
      ],
      "id": "c700b948"
    },
    {
      "cell_type": "code",
      "metadata": {
        "id": "f17c3225"
      },
      "source": [
        "X = train_df.drop(['Sales'],axis=1)\n",
        "y = train_df['Sales']"
      ],
      "id": "f17c3225",
      "execution_count": 287,
      "outputs": []
    },
    {
      "cell_type": "markdown",
      "metadata": {
        "id": "d84991fb"
      },
      "source": [
        "### Train Test Splitting of Training Data"
      ],
      "id": "d84991fb"
    },
    {
      "cell_type": "code",
      "metadata": {
        "id": "df6d3ffa"
      },
      "source": [
        "from sklearn.model_selection import train_test_split"
      ],
      "id": "df6d3ffa",
      "execution_count": 288,
      "outputs": []
    },
    {
      "cell_type": "code",
      "metadata": {
        "id": "28293d3b"
      },
      "source": [
        "X_train,X_test,y_train,y_test = train_test_split(X,y,test_size=0.2,random_state=42)"
      ],
      "id": "28293d3b",
      "execution_count": 289,
      "outputs": []
    },
    {
      "cell_type": "markdown",
      "metadata": {
        "id": "f5d54a09"
      },
      "source": [
        "### Random Forest Algorithm"
      ],
      "id": "f5d54a09"
    },
    {
      "cell_type": "code",
      "metadata": {
        "id": "2a7db797"
      },
      "source": [
        "from sklearn.ensemble import RandomForestRegressor"
      ],
      "id": "2a7db797",
      "execution_count": 290,
      "outputs": []
    },
    {
      "cell_type": "code",
      "metadata": {
        "id": "def30240"
      },
      "source": [
        "model = RandomForestRegressor()"
      ],
      "id": "def30240",
      "execution_count": 248,
      "outputs": []
    },
    {
      "cell_type": "markdown",
      "metadata": {
        "id": "JYJVVWvD64sS"
      },
      "source": [
        "#### HyperParameter Tuning"
      ],
      "id": "JYJVVWvD64sS"
    },
    {
      "cell_type": "code",
      "metadata": {
        "id": "VzfidrX6vN9n"
      },
      "source": [
        "from sklearn.model_selection import RandomizedSearchCV"
      ],
      "id": "VzfidrX6vN9n",
      "execution_count": 292,
      "outputs": []
    },
    {
      "cell_type": "code",
      "metadata": {
        "id": "Nen3v6dOvFzt"
      },
      "source": [
        "rf_grid={\"n_estimators\":np.arange(10,1000,200),\n",
        "         \"max_depth\":[None,3,5,10],\n",
        "         \"min_samples_split\":np.arange(2,20,2),\n",
        "         \"min_samples_leaf\":np.arange(1,20,2)}"
      ],
      "id": "Nen3v6dOvFzt",
      "execution_count": 291,
      "outputs": []
    },
    {
      "cell_type": "code",
      "metadata": {
        "id": "oMryRh-0vKQk"
      },
      "source": [
        "rs_rf=RandomizedSearchCV(RandomForestRegressor(),\n",
        "                              param_distributions=rf_grid,\n",
        "                              cv=5,\n",
        "                              n_iter=20,\n",
        "                              verbose=2)"
      ],
      "id": "oMryRh-0vKQk",
      "execution_count": 294,
      "outputs": []
    },
    {
      "cell_type": "code",
      "metadata": {
        "colab": {
          "base_uri": "https://localhost:8080/"
        },
        "id": "CMygYB5UvRLF",
        "outputId": "870a2bb8-b603-44e5-ed8f-72a8ebfc629c"
      },
      "source": [
        "rs_rf.fit(X_train,y_train)"
      ],
      "id": "CMygYB5UvRLF",
      "execution_count": 295,
      "outputs": [
        {
          "output_type": "stream",
          "name": "stdout",
          "text": [
            "Fitting 5 folds for each of 20 candidates, totalling 100 fits\n",
            "[CV] n_estimators=610, min_samples_split=12, min_samples_leaf=15, max_depth=10 \n"
          ]
        },
        {
          "output_type": "stream",
          "name": "stderr",
          "text": [
            "[Parallel(n_jobs=1)]: Using backend SequentialBackend with 1 concurrent workers.\n"
          ]
        },
        {
          "output_type": "stream",
          "name": "stdout",
          "text": [
            "[CV]  n_estimators=610, min_samples_split=12, min_samples_leaf=15, max_depth=10, total=  35.6s\n",
            "[CV] n_estimators=610, min_samples_split=12, min_samples_leaf=15, max_depth=10 \n"
          ]
        },
        {
          "output_type": "stream",
          "name": "stderr",
          "text": [
            "[Parallel(n_jobs=1)]: Done   1 out of   1 | elapsed:   35.6s remaining:    0.0s\n"
          ]
        },
        {
          "output_type": "stream",
          "name": "stdout",
          "text": [
            "[CV]  n_estimators=610, min_samples_split=12, min_samples_leaf=15, max_depth=10, total=  35.6s\n",
            "[CV] n_estimators=610, min_samples_split=12, min_samples_leaf=15, max_depth=10 \n",
            "[CV]  n_estimators=610, min_samples_split=12, min_samples_leaf=15, max_depth=10, total=  35.4s\n",
            "[CV] n_estimators=610, min_samples_split=12, min_samples_leaf=15, max_depth=10 \n",
            "[CV]  n_estimators=610, min_samples_split=12, min_samples_leaf=15, max_depth=10, total=  35.0s\n",
            "[CV] n_estimators=610, min_samples_split=12, min_samples_leaf=15, max_depth=10 \n",
            "[CV]  n_estimators=610, min_samples_split=12, min_samples_leaf=15, max_depth=10, total=  35.4s\n",
            "[CV] n_estimators=410, min_samples_split=8, min_samples_leaf=11, max_depth=5 \n",
            "[CV]  n_estimators=410, min_samples_split=8, min_samples_leaf=11, max_depth=5, total=  16.5s\n",
            "[CV] n_estimators=410, min_samples_split=8, min_samples_leaf=11, max_depth=5 \n",
            "[CV]  n_estimators=410, min_samples_split=8, min_samples_leaf=11, max_depth=5, total=  16.7s\n",
            "[CV] n_estimators=410, min_samples_split=8, min_samples_leaf=11, max_depth=5 \n",
            "[CV]  n_estimators=410, min_samples_split=8, min_samples_leaf=11, max_depth=5, total=  16.8s\n",
            "[CV] n_estimators=410, min_samples_split=8, min_samples_leaf=11, max_depth=5 \n",
            "[CV]  n_estimators=410, min_samples_split=8, min_samples_leaf=11, max_depth=5, total=  16.6s\n",
            "[CV] n_estimators=410, min_samples_split=8, min_samples_leaf=11, max_depth=5 \n",
            "[CV]  n_estimators=410, min_samples_split=8, min_samples_leaf=11, max_depth=5, total=  16.6s\n",
            "[CV] n_estimators=410, min_samples_split=16, min_samples_leaf=19, max_depth=None \n",
            "[CV]  n_estimators=410, min_samples_split=16, min_samples_leaf=19, max_depth=None, total=  26.9s\n",
            "[CV] n_estimators=410, min_samples_split=16, min_samples_leaf=19, max_depth=None \n",
            "[CV]  n_estimators=410, min_samples_split=16, min_samples_leaf=19, max_depth=None, total=  26.6s\n",
            "[CV] n_estimators=410, min_samples_split=16, min_samples_leaf=19, max_depth=None \n",
            "[CV]  n_estimators=410, min_samples_split=16, min_samples_leaf=19, max_depth=None, total=  26.6s\n",
            "[CV] n_estimators=410, min_samples_split=16, min_samples_leaf=19, max_depth=None \n",
            "[CV]  n_estimators=410, min_samples_split=16, min_samples_leaf=19, max_depth=None, total=  26.5s\n",
            "[CV] n_estimators=410, min_samples_split=16, min_samples_leaf=19, max_depth=None \n",
            "[CV]  n_estimators=410, min_samples_split=16, min_samples_leaf=19, max_depth=None, total=  26.7s\n",
            "[CV] n_estimators=10, min_samples_split=10, min_samples_leaf=9, max_depth=3 \n",
            "[CV]  n_estimators=10, min_samples_split=10, min_samples_leaf=9, max_depth=3, total=   0.3s\n",
            "[CV] n_estimators=10, min_samples_split=10, min_samples_leaf=9, max_depth=3 \n",
            "[CV]  n_estimators=10, min_samples_split=10, min_samples_leaf=9, max_depth=3, total=   0.3s\n",
            "[CV] n_estimators=10, min_samples_split=10, min_samples_leaf=9, max_depth=3 \n",
            "[CV]  n_estimators=10, min_samples_split=10, min_samples_leaf=9, max_depth=3, total=   0.3s\n",
            "[CV] n_estimators=10, min_samples_split=10, min_samples_leaf=9, max_depth=3 \n",
            "[CV]  n_estimators=10, min_samples_split=10, min_samples_leaf=9, max_depth=3, total=   0.3s\n",
            "[CV] n_estimators=10, min_samples_split=10, min_samples_leaf=9, max_depth=3 \n",
            "[CV]  n_estimators=10, min_samples_split=10, min_samples_leaf=9, max_depth=3, total=   0.3s\n",
            "[CV] n_estimators=210, min_samples_split=14, min_samples_leaf=1, max_depth=3 \n",
            "[CV]  n_estimators=210, min_samples_split=14, min_samples_leaf=1, max_depth=3, total=   6.3s\n",
            "[CV] n_estimators=210, min_samples_split=14, min_samples_leaf=1, max_depth=3 \n",
            "[CV]  n_estimators=210, min_samples_split=14, min_samples_leaf=1, max_depth=3, total=   6.4s\n",
            "[CV] n_estimators=210, min_samples_split=14, min_samples_leaf=1, max_depth=3 \n",
            "[CV]  n_estimators=210, min_samples_split=14, min_samples_leaf=1, max_depth=3, total=   6.3s\n",
            "[CV] n_estimators=210, min_samples_split=14, min_samples_leaf=1, max_depth=3 \n",
            "[CV]  n_estimators=210, min_samples_split=14, min_samples_leaf=1, max_depth=3, total=   6.3s\n",
            "[CV] n_estimators=210, min_samples_split=14, min_samples_leaf=1, max_depth=3 \n",
            "[CV]  n_estimators=210, min_samples_split=14, min_samples_leaf=1, max_depth=3, total=   6.2s\n",
            "[CV] n_estimators=810, min_samples_split=12, min_samples_leaf=11, max_depth=10 \n",
            "[CV]  n_estimators=810, min_samples_split=12, min_samples_leaf=11, max_depth=10, total=  47.0s\n",
            "[CV] n_estimators=810, min_samples_split=12, min_samples_leaf=11, max_depth=10 \n",
            "[CV]  n_estimators=810, min_samples_split=12, min_samples_leaf=11, max_depth=10, total=  46.9s\n",
            "[CV] n_estimators=810, min_samples_split=12, min_samples_leaf=11, max_depth=10 \n",
            "[CV]  n_estimators=810, min_samples_split=12, min_samples_leaf=11, max_depth=10, total=  46.9s\n",
            "[CV] n_estimators=810, min_samples_split=12, min_samples_leaf=11, max_depth=10 \n",
            "[CV]  n_estimators=810, min_samples_split=12, min_samples_leaf=11, max_depth=10, total=  47.2s\n",
            "[CV] n_estimators=810, min_samples_split=12, min_samples_leaf=11, max_depth=10 \n",
            "[CV]  n_estimators=810, min_samples_split=12, min_samples_leaf=11, max_depth=10, total=  46.7s\n",
            "[CV] n_estimators=10, min_samples_split=12, min_samples_leaf=17, max_depth=3 \n",
            "[CV]  n_estimators=10, min_samples_split=12, min_samples_leaf=17, max_depth=3, total=   0.3s\n",
            "[CV] n_estimators=10, min_samples_split=12, min_samples_leaf=17, max_depth=3 \n",
            "[CV]  n_estimators=10, min_samples_split=12, min_samples_leaf=17, max_depth=3, total=   0.3s\n",
            "[CV] n_estimators=10, min_samples_split=12, min_samples_leaf=17, max_depth=3 \n",
            "[CV]  n_estimators=10, min_samples_split=12, min_samples_leaf=17, max_depth=3, total=   0.3s\n",
            "[CV] n_estimators=10, min_samples_split=12, min_samples_leaf=17, max_depth=3 \n",
            "[CV]  n_estimators=10, min_samples_split=12, min_samples_leaf=17, max_depth=3, total=   0.3s\n",
            "[CV] n_estimators=10, min_samples_split=12, min_samples_leaf=17, max_depth=3 \n",
            "[CV]  n_estimators=10, min_samples_split=12, min_samples_leaf=17, max_depth=3, total=   0.3s\n",
            "[CV] n_estimators=610, min_samples_split=10, min_samples_leaf=1, max_depth=10 \n",
            "[CV]  n_estimators=610, min_samples_split=10, min_samples_leaf=1, max_depth=10, total=  35.4s\n",
            "[CV] n_estimators=610, min_samples_split=10, min_samples_leaf=1, max_depth=10 \n",
            "[CV]  n_estimators=610, min_samples_split=10, min_samples_leaf=1, max_depth=10, total=  35.4s\n",
            "[CV] n_estimators=610, min_samples_split=10, min_samples_leaf=1, max_depth=10 \n",
            "[CV]  n_estimators=610, min_samples_split=10, min_samples_leaf=1, max_depth=10, total=  35.4s\n",
            "[CV] n_estimators=610, min_samples_split=10, min_samples_leaf=1, max_depth=10 \n",
            "[CV]  n_estimators=610, min_samples_split=10, min_samples_leaf=1, max_depth=10, total=  35.5s\n",
            "[CV] n_estimators=610, min_samples_split=10, min_samples_leaf=1, max_depth=10 \n",
            "[CV]  n_estimators=610, min_samples_split=10, min_samples_leaf=1, max_depth=10, total=  35.6s\n",
            "[CV] n_estimators=10, min_samples_split=4, min_samples_leaf=15, max_depth=10 \n",
            "[CV]  n_estimators=10, min_samples_split=4, min_samples_leaf=15, max_depth=10, total=   0.6s\n",
            "[CV] n_estimators=10, min_samples_split=4, min_samples_leaf=15, max_depth=10 \n",
            "[CV]  n_estimators=10, min_samples_split=4, min_samples_leaf=15, max_depth=10, total=   0.6s\n",
            "[CV] n_estimators=10, min_samples_split=4, min_samples_leaf=15, max_depth=10 \n",
            "[CV]  n_estimators=10, min_samples_split=4, min_samples_leaf=15, max_depth=10, total=   0.6s\n",
            "[CV] n_estimators=10, min_samples_split=4, min_samples_leaf=15, max_depth=10 \n",
            "[CV]  n_estimators=10, min_samples_split=4, min_samples_leaf=15, max_depth=10, total=   0.6s\n",
            "[CV] n_estimators=10, min_samples_split=4, min_samples_leaf=15, max_depth=10 \n",
            "[CV]  n_estimators=10, min_samples_split=4, min_samples_leaf=15, max_depth=10, total=   0.6s\n",
            "[CV] n_estimators=810, min_samples_split=18, min_samples_leaf=17, max_depth=5 \n",
            "[CV]  n_estimators=810, min_samples_split=18, min_samples_leaf=17, max_depth=5, total=  33.1s\n",
            "[CV] n_estimators=810, min_samples_split=18, min_samples_leaf=17, max_depth=5 \n",
            "[CV]  n_estimators=810, min_samples_split=18, min_samples_leaf=17, max_depth=5, total=  33.3s\n",
            "[CV] n_estimators=810, min_samples_split=18, min_samples_leaf=17, max_depth=5 \n",
            "[CV]  n_estimators=810, min_samples_split=18, min_samples_leaf=17, max_depth=5, total=  33.3s\n",
            "[CV] n_estimators=810, min_samples_split=18, min_samples_leaf=17, max_depth=5 \n",
            "[CV]  n_estimators=810, min_samples_split=18, min_samples_leaf=17, max_depth=5, total=  33.0s\n",
            "[CV] n_estimators=810, min_samples_split=18, min_samples_leaf=17, max_depth=5 \n",
            "[CV]  n_estimators=810, min_samples_split=18, min_samples_leaf=17, max_depth=5, total=  33.2s\n",
            "[CV] n_estimators=210, min_samples_split=10, min_samples_leaf=3, max_depth=10 \n",
            "[CV]  n_estimators=210, min_samples_split=10, min_samples_leaf=3, max_depth=10, total=  12.4s\n",
            "[CV] n_estimators=210, min_samples_split=10, min_samples_leaf=3, max_depth=10 \n",
            "[CV]  n_estimators=210, min_samples_split=10, min_samples_leaf=3, max_depth=10, total=  12.3s\n",
            "[CV] n_estimators=210, min_samples_split=10, min_samples_leaf=3, max_depth=10 \n",
            "[CV]  n_estimators=210, min_samples_split=10, min_samples_leaf=3, max_depth=10, total=  12.3s\n",
            "[CV] n_estimators=210, min_samples_split=10, min_samples_leaf=3, max_depth=10 \n",
            "[CV]  n_estimators=210, min_samples_split=10, min_samples_leaf=3, max_depth=10, total=  12.4s\n",
            "[CV] n_estimators=210, min_samples_split=10, min_samples_leaf=3, max_depth=10 \n",
            "[CV]  n_estimators=210, min_samples_split=10, min_samples_leaf=3, max_depth=10, total=  12.4s\n",
            "[CV] n_estimators=810, min_samples_split=18, min_samples_leaf=3, max_depth=10 \n",
            "[CV]  n_estimators=810, min_samples_split=18, min_samples_leaf=3, max_depth=10, total=  47.6s\n",
            "[CV] n_estimators=810, min_samples_split=18, min_samples_leaf=3, max_depth=10 \n",
            "[CV]  n_estimators=810, min_samples_split=18, min_samples_leaf=3, max_depth=10, total=  47.1s\n",
            "[CV] n_estimators=810, min_samples_split=18, min_samples_leaf=3, max_depth=10 \n",
            "[CV]  n_estimators=810, min_samples_split=18, min_samples_leaf=3, max_depth=10, total=  47.6s\n",
            "[CV] n_estimators=810, min_samples_split=18, min_samples_leaf=3, max_depth=10 \n",
            "[CV]  n_estimators=810, min_samples_split=18, min_samples_leaf=3, max_depth=10, total=  47.8s\n",
            "[CV] n_estimators=810, min_samples_split=18, min_samples_leaf=3, max_depth=10 \n",
            "[CV]  n_estimators=810, min_samples_split=18, min_samples_leaf=3, max_depth=10, total=  47.8s\n",
            "[CV] n_estimators=610, min_samples_split=14, min_samples_leaf=3, max_depth=5 \n",
            "[CV]  n_estimators=610, min_samples_split=14, min_samples_leaf=3, max_depth=5, total=  25.0s\n",
            "[CV] n_estimators=610, min_samples_split=14, min_samples_leaf=3, max_depth=5 \n",
            "[CV]  n_estimators=610, min_samples_split=14, min_samples_leaf=3, max_depth=5, total=  24.9s\n",
            "[CV] n_estimators=610, min_samples_split=14, min_samples_leaf=3, max_depth=5 \n",
            "[CV]  n_estimators=610, min_samples_split=14, min_samples_leaf=3, max_depth=5, total=  25.1s\n",
            "[CV] n_estimators=610, min_samples_split=14, min_samples_leaf=3, max_depth=5 \n",
            "[CV]  n_estimators=610, min_samples_split=14, min_samples_leaf=3, max_depth=5, total=  25.0s\n",
            "[CV] n_estimators=610, min_samples_split=14, min_samples_leaf=3, max_depth=5 \n",
            "[CV]  n_estimators=610, min_samples_split=14, min_samples_leaf=3, max_depth=5, total=  24.9s\n",
            "[CV] n_estimators=610, min_samples_split=16, min_samples_leaf=15, max_depth=3 \n",
            "[CV]  n_estimators=610, min_samples_split=16, min_samples_leaf=15, max_depth=3, total=  18.2s\n",
            "[CV] n_estimators=610, min_samples_split=16, min_samples_leaf=15, max_depth=3 \n",
            "[CV]  n_estimators=610, min_samples_split=16, min_samples_leaf=15, max_depth=3, total=  18.3s\n",
            "[CV] n_estimators=610, min_samples_split=16, min_samples_leaf=15, max_depth=3 \n",
            "[CV]  n_estimators=610, min_samples_split=16, min_samples_leaf=15, max_depth=3, total=  18.2s\n",
            "[CV] n_estimators=610, min_samples_split=16, min_samples_leaf=15, max_depth=3 \n",
            "[CV]  n_estimators=610, min_samples_split=16, min_samples_leaf=15, max_depth=3, total=  18.4s\n",
            "[CV] n_estimators=610, min_samples_split=16, min_samples_leaf=15, max_depth=3 \n",
            "[CV]  n_estimators=610, min_samples_split=16, min_samples_leaf=15, max_depth=3, total=  18.4s\n",
            "[CV] n_estimators=10, min_samples_split=4, min_samples_leaf=7, max_depth=3 \n",
            "[CV]  n_estimators=10, min_samples_split=4, min_samples_leaf=7, max_depth=3, total=   0.3s\n",
            "[CV] n_estimators=10, min_samples_split=4, min_samples_leaf=7, max_depth=3 \n",
            "[CV]  n_estimators=10, min_samples_split=4, min_samples_leaf=7, max_depth=3, total=   0.3s\n",
            "[CV] n_estimators=10, min_samples_split=4, min_samples_leaf=7, max_depth=3 \n",
            "[CV]  n_estimators=10, min_samples_split=4, min_samples_leaf=7, max_depth=3, total=   0.3s\n",
            "[CV] n_estimators=10, min_samples_split=4, min_samples_leaf=7, max_depth=3 \n",
            "[CV]  n_estimators=10, min_samples_split=4, min_samples_leaf=7, max_depth=3, total=   0.3s\n",
            "[CV] n_estimators=10, min_samples_split=4, min_samples_leaf=7, max_depth=3 \n",
            "[CV]  n_estimators=10, min_samples_split=4, min_samples_leaf=7, max_depth=3, total=   0.3s\n",
            "[CV] n_estimators=610, min_samples_split=4, min_samples_leaf=17, max_depth=3 \n",
            "[CV]  n_estimators=610, min_samples_split=4, min_samples_leaf=17, max_depth=3, total=  18.4s\n",
            "[CV] n_estimators=610, min_samples_split=4, min_samples_leaf=17, max_depth=3 \n",
            "[CV]  n_estimators=610, min_samples_split=4, min_samples_leaf=17, max_depth=3, total=  18.4s\n",
            "[CV] n_estimators=610, min_samples_split=4, min_samples_leaf=17, max_depth=3 \n",
            "[CV]  n_estimators=610, min_samples_split=4, min_samples_leaf=17, max_depth=3, total=  18.4s\n",
            "[CV] n_estimators=610, min_samples_split=4, min_samples_leaf=17, max_depth=3 \n",
            "[CV]  n_estimators=610, min_samples_split=4, min_samples_leaf=17, max_depth=3, total=  18.4s\n",
            "[CV] n_estimators=610, min_samples_split=4, min_samples_leaf=17, max_depth=3 \n",
            "[CV]  n_estimators=610, min_samples_split=4, min_samples_leaf=17, max_depth=3, total=  18.3s\n",
            "[CV] n_estimators=210, min_samples_split=2, min_samples_leaf=17, max_depth=3 \n",
            "[CV]  n_estimators=210, min_samples_split=2, min_samples_leaf=17, max_depth=3, total=   6.3s\n",
            "[CV] n_estimators=210, min_samples_split=2, min_samples_leaf=17, max_depth=3 \n",
            "[CV]  n_estimators=210, min_samples_split=2, min_samples_leaf=17, max_depth=3, total=   6.4s\n",
            "[CV] n_estimators=210, min_samples_split=2, min_samples_leaf=17, max_depth=3 \n",
            "[CV]  n_estimators=210, min_samples_split=2, min_samples_leaf=17, max_depth=3, total=   6.4s\n",
            "[CV] n_estimators=210, min_samples_split=2, min_samples_leaf=17, max_depth=3 \n",
            "[CV]  n_estimators=210, min_samples_split=2, min_samples_leaf=17, max_depth=3, total=   6.4s\n",
            "[CV] n_estimators=210, min_samples_split=2, min_samples_leaf=17, max_depth=3 \n",
            "[CV]  n_estimators=210, min_samples_split=2, min_samples_leaf=17, max_depth=3, total=   6.4s\n",
            "[CV] n_estimators=810, min_samples_split=6, min_samples_leaf=19, max_depth=10 \n",
            "[CV]  n_estimators=810, min_samples_split=6, min_samples_leaf=19, max_depth=10, total=  47.6s\n",
            "[CV] n_estimators=810, min_samples_split=6, min_samples_leaf=19, max_depth=10 \n",
            "[CV]  n_estimators=810, min_samples_split=6, min_samples_leaf=19, max_depth=10, total=  47.4s\n",
            "[CV] n_estimators=810, min_samples_split=6, min_samples_leaf=19, max_depth=10 \n",
            "[CV]  n_estimators=810, min_samples_split=6, min_samples_leaf=19, max_depth=10, total=  47.3s\n",
            "[CV] n_estimators=810, min_samples_split=6, min_samples_leaf=19, max_depth=10 \n",
            "[CV]  n_estimators=810, min_samples_split=6, min_samples_leaf=19, max_depth=10, total=  47.5s\n",
            "[CV] n_estimators=810, min_samples_split=6, min_samples_leaf=19, max_depth=10 \n",
            "[CV]  n_estimators=810, min_samples_split=6, min_samples_leaf=19, max_depth=10, total=  47.3s\n",
            "[CV] n_estimators=610, min_samples_split=8, min_samples_leaf=13, max_depth=10 \n",
            "[CV]  n_estimators=610, min_samples_split=8, min_samples_leaf=13, max_depth=10, total=  36.0s\n",
            "[CV] n_estimators=610, min_samples_split=8, min_samples_leaf=13, max_depth=10 \n",
            "[CV]  n_estimators=610, min_samples_split=8, min_samples_leaf=13, max_depth=10, total=  35.7s\n",
            "[CV] n_estimators=610, min_samples_split=8, min_samples_leaf=13, max_depth=10 \n",
            "[CV]  n_estimators=610, min_samples_split=8, min_samples_leaf=13, max_depth=10, total=  35.8s\n",
            "[CV] n_estimators=610, min_samples_split=8, min_samples_leaf=13, max_depth=10 \n",
            "[CV]  n_estimators=610, min_samples_split=8, min_samples_leaf=13, max_depth=10, total=  35.9s\n",
            "[CV] n_estimators=610, min_samples_split=8, min_samples_leaf=13, max_depth=10 \n",
            "[CV]  n_estimators=610, min_samples_split=8, min_samples_leaf=13, max_depth=10, total=  35.8s\n",
            "[CV] n_estimators=410, min_samples_split=8, min_samples_leaf=5, max_depth=None \n",
            "[CV]  n_estimators=410, min_samples_split=8, min_samples_leaf=5, max_depth=None, total=  27.7s\n",
            "[CV] n_estimators=410, min_samples_split=8, min_samples_leaf=5, max_depth=None \n",
            "[CV]  n_estimators=410, min_samples_split=8, min_samples_leaf=5, max_depth=None, total=  27.4s\n",
            "[CV] n_estimators=410, min_samples_split=8, min_samples_leaf=5, max_depth=None \n",
            "[CV]  n_estimators=410, min_samples_split=8, min_samples_leaf=5, max_depth=None, total=  27.4s\n",
            "[CV] n_estimators=410, min_samples_split=8, min_samples_leaf=5, max_depth=None \n",
            "[CV]  n_estimators=410, min_samples_split=8, min_samples_leaf=5, max_depth=None, total=  27.6s\n",
            "[CV] n_estimators=410, min_samples_split=8, min_samples_leaf=5, max_depth=None \n",
            "[CV]  n_estimators=410, min_samples_split=8, min_samples_leaf=5, max_depth=None, total=  27.4s\n"
          ]
        },
        {
          "output_type": "stream",
          "name": "stderr",
          "text": [
            "[Parallel(n_jobs=1)]: Done 100 out of 100 | elapsed: 36.7min finished\n"
          ]
        },
        {
          "output_type": "execute_result",
          "data": {
            "text/plain": [
              "RandomizedSearchCV(cv=5, error_score=nan,\n",
              "                   estimator=RandomForestRegressor(bootstrap=True,\n",
              "                                                   ccp_alpha=0.0,\n",
              "                                                   criterion='mse',\n",
              "                                                   max_depth=None,\n",
              "                                                   max_features='auto',\n",
              "                                                   max_leaf_nodes=None,\n",
              "                                                   max_samples=None,\n",
              "                                                   min_impurity_decrease=0.0,\n",
              "                                                   min_impurity_split=None,\n",
              "                                                   min_samples_leaf=1,\n",
              "                                                   min_samples_split=2,\n",
              "                                                   min_weight_fraction_leaf=0.0,\n",
              "                                                   n_estimators=100,\n",
              "                                                   n_jobs=None, oob_score=Fals...\n",
              "                                                   warm_start=False),\n",
              "                   iid='deprecated', n_iter=20, n_jobs=None,\n",
              "                   param_distributions={'max_depth': [None, 3, 5, 10],\n",
              "                                        'min_samples_leaf': array([ 1,  3,  5,  7,  9, 11, 13, 15, 17, 19]),\n",
              "                                        'min_samples_split': array([ 2,  4,  6,  8, 10, 12, 14, 16, 18]),\n",
              "                                        'n_estimators': array([ 10, 210, 410, 610, 810])},\n",
              "                   pre_dispatch='2*n_jobs', random_state=None, refit=True,\n",
              "                   return_train_score=False, scoring=None, verbose=2)"
            ]
          },
          "metadata": {},
          "execution_count": 295
        }
      ]
    },
    {
      "cell_type": "code",
      "metadata": {
        "colab": {
          "base_uri": "https://localhost:8080/"
        },
        "id": "a1f758ae",
        "outputId": "7c8a5d4c-3ae0-4709-9357-122333182c3f"
      },
      "source": [
        "#Training Accuracy\n",
        "rs_rf.score(X_train,y_train)"
      ],
      "id": "a1f758ae",
      "execution_count": 298,
      "outputs": [
        {
          "output_type": "execute_result",
          "data": {
            "text/plain": [
              "0.6578454111751368"
            ]
          },
          "metadata": {},
          "execution_count": 298
        }
      ]
    },
    {
      "cell_type": "code",
      "metadata": {
        "colab": {
          "base_uri": "https://localhost:8080/"
        },
        "id": "a59b4c23",
        "outputId": "576bb0c6-7af6-4ec1-9b21-49ffef53c1a5"
      },
      "source": [
        "#Testing Accuracy\n",
        "rs_rf.score(X_test,y_test)"
      ],
      "id": "a59b4c23",
      "execution_count": 309,
      "outputs": [
        {
          "output_type": "execute_result",
          "data": {
            "text/plain": [
              "0.6475681000165321"
            ]
          },
          "metadata": {},
          "execution_count": 309
        }
      ]
    },
    {
      "cell_type": "code",
      "metadata": {
        "colab": {
          "base_uri": "https://localhost:8080/"
        },
        "id": "HQgZDRZ44yrJ",
        "outputId": "20bd74c7-8d19-4a48-9e90-8245e39143e9"
      },
      "source": [
        "#Best Parameters\n",
        "rs_rf.best_params_"
      ],
      "id": "HQgZDRZ44yrJ",
      "execution_count": 310,
      "outputs": [
        {
          "output_type": "execute_result",
          "data": {
            "text/plain": [
              "{'max_depth': None,\n",
              " 'min_samples_leaf': 19,\n",
              " 'min_samples_split': 16,\n",
              " 'n_estimators': 410}"
            ]
          },
          "metadata": {},
          "execution_count": 310
        }
      ]
    },
    {
      "cell_type": "markdown",
      "metadata": {
        "id": "e9560a5c"
      },
      "source": [
        "### Evaluation Metrics"
      ],
      "id": "e9560a5c"
    },
    {
      "cell_type": "code",
      "metadata": {
        "id": "27d82384"
      },
      "source": [
        "from sklearn.metrics import r2_score,mean_absolute_error,mean_squared_error,mean_squared_log_error"
      ],
      "id": "27d82384",
      "execution_count": 323,
      "outputs": []
    },
    {
      "cell_type": "code",
      "metadata": {
        "id": "f714300e"
      },
      "source": [
        "#Predictions\n",
        "y_preds = rs_rf.predict(X_test)"
      ],
      "id": "f714300e",
      "execution_count": 325,
      "outputs": []
    },
    {
      "cell_type": "code",
      "metadata": {
        "colab": {
          "base_uri": "https://localhost:8080/"
        },
        "id": "b369cc11",
        "outputId": "df4b60b7-4fac-4725-f056-ba37a2dff688"
      },
      "source": [
        "r2_score(y_preds,y_test)"
      ],
      "id": "b369cc11",
      "execution_count": 303,
      "outputs": [
        {
          "output_type": "execute_result",
          "data": {
            "text/plain": [
              "0.4684447949291277"
            ]
          },
          "metadata": {},
          "execution_count": 303
        }
      ]
    },
    {
      "cell_type": "code",
      "metadata": {
        "colab": {
          "base_uri": "https://localhost:8080/"
        },
        "id": "7023120a",
        "outputId": "3ceb101f-f41e-4e2b-9435-056975937a61"
      },
      "source": [
        "mean_absolute_error(y_preds,y_test)"
      ],
      "id": "7023120a",
      "execution_count": 304,
      "outputs": [
        {
          "output_type": "execute_result",
          "data": {
            "text/plain": [
              "7633.744774126816"
            ]
          },
          "metadata": {},
          "execution_count": 304
        }
      ]
    },
    {
      "cell_type": "code",
      "metadata": {
        "colab": {
          "base_uri": "https://localhost:8080/"
        },
        "id": "3ed98203",
        "outputId": "4222eb1d-75ce-4899-a7ed-525e925d20e9"
      },
      "source": [
        "mean_squared_error(y_preds,y_test)"
      ],
      "id": "3ed98203",
      "execution_count": 305,
      "outputs": [
        {
          "output_type": "execute_result",
          "data": {
            "text/plain": [
              "119148269.12010682"
            ]
          },
          "metadata": {},
          "execution_count": 305
        }
      ]
    },
    {
      "cell_type": "code",
      "metadata": {
        "colab": {
          "base_uri": "https://localhost:8080/"
        },
        "id": "06a30dfc",
        "outputId": "0ea57f36-dcca-4d89-e1b5-05b2a2c8a052"
      },
      "source": [
        "np.sqrt(mean_squared_error(y_preds,y_test))"
      ],
      "id": "06a30dfc",
      "execution_count": 306,
      "outputs": [
        {
          "output_type": "execute_result",
          "data": {
            "text/plain": [
              "10915.505903076908"
            ]
          },
          "metadata": {},
          "execution_count": 306
        }
      ]
    },
    {
      "cell_type": "code",
      "metadata": {
        "colab": {
          "base_uri": "https://localhost:8080/"
        },
        "id": "_dVh1Hvns2QD",
        "outputId": "9ff803ff-e240-4742-ed99-1f333cde7cb7"
      },
      "source": [
        "mean_squared_log_error(y_preds,y_test)"
      ],
      "id": "_dVh1Hvns2QD",
      "execution_count": 307,
      "outputs": [
        {
          "output_type": "execute_result",
          "data": {
            "text/plain": [
              "0.09914557809906273"
            ]
          },
          "metadata": {},
          "execution_count": 307
        }
      ]
    },
    {
      "cell_type": "markdown",
      "metadata": {
        "id": "ae046f7f"
      },
      "source": [
        "## Model Building on Full Data"
      ],
      "id": "ae046f7f"
    },
    {
      "cell_type": "code",
      "metadata": {
        "id": "smA5vPZ84vgA"
      },
      "source": [
        "#Fitting the model with tuned params\n",
        "model = RandomForestRegressor(max_depth=None,min_samples_leaf=19,min_samples_split=16,n_estimators=410)"
      ],
      "id": "smA5vPZ84vgA",
      "execution_count": 322,
      "outputs": []
    },
    {
      "cell_type": "code",
      "metadata": {
        "colab": {
          "base_uri": "https://localhost:8080/"
        },
        "id": "b5af6ebb",
        "outputId": "9d33c314-0d69-4e04-de7a-5f1ea1b6f806"
      },
      "source": [
        "model.fit(X,y)"
      ],
      "id": "b5af6ebb",
      "execution_count": 312,
      "outputs": [
        {
          "output_type": "execute_result",
          "data": {
            "text/plain": [
              "RandomForestRegressor(bootstrap=True, ccp_alpha=0.0, criterion='mse',\n",
              "                      max_depth=None, max_features='auto', max_leaf_nodes=None,\n",
              "                      max_samples=None, min_impurity_decrease=0.0,\n",
              "                      min_impurity_split=None, min_samples_leaf=19,\n",
              "                      min_samples_split=16, min_weight_fraction_leaf=0.0,\n",
              "                      n_estimators=410, n_jobs=None, oob_score=False,\n",
              "                      random_state=None, verbose=0, warm_start=False)"
            ]
          },
          "metadata": {},
          "execution_count": 312
        }
      ]
    },
    {
      "cell_type": "code",
      "metadata": {
        "colab": {
          "base_uri": "https://localhost:8080/"
        },
        "id": "6e7b2b3a",
        "outputId": "70b80871-7194-4934-8f59-33de865d7c2c"
      },
      "source": [
        "model.score(X,y)"
      ],
      "id": "6e7b2b3a",
      "execution_count": 313,
      "outputs": [
        {
          "output_type": "execute_result",
          "data": {
            "text/plain": [
              "0.6576767411067733"
            ]
          },
          "metadata": {},
          "execution_count": 313
        }
      ]
    },
    {
      "cell_type": "markdown",
      "metadata": {
        "id": "83399e7f"
      },
      "source": [
        "## Predictions"
      ],
      "id": "83399e7f"
    },
    {
      "cell_type": "code",
      "metadata": {
        "id": "cf6c7e78"
      },
      "source": [
        "test_df_preds = model.predict(test_df)"
      ],
      "id": "cf6c7e78",
      "execution_count": 314,
      "outputs": []
    },
    {
      "cell_type": "markdown",
      "metadata": {
        "id": "6d9f2bf8"
      },
      "source": [
        "## Sample Submission"
      ],
      "id": "6d9f2bf8"
    },
    {
      "cell_type": "code",
      "metadata": {
        "id": "7332b62b"
      },
      "source": [
        "sample_submission = pd.read_csv('SAMPLE.csv')"
      ],
      "id": "7332b62b",
      "execution_count": 315,
      "outputs": []
    },
    {
      "cell_type": "code",
      "metadata": {
        "colab": {
          "base_uri": "https://localhost:8080/",
          "height": 203
        },
        "id": "b3212593",
        "outputId": "c6c37e93-a11a-46e1-b215-289ad0b9faa3"
      },
      "source": [
        "sample_submission.head()"
      ],
      "id": "b3212593",
      "execution_count": 316,
      "outputs": [
        {
          "output_type": "execute_result",
          "data": {
            "text/html": [
              "<div>\n",
              "<style scoped>\n",
              "    .dataframe tbody tr th:only-of-type {\n",
              "        vertical-align: middle;\n",
              "    }\n",
              "\n",
              "    .dataframe tbody tr th {\n",
              "        vertical-align: top;\n",
              "    }\n",
              "\n",
              "    .dataframe thead th {\n",
              "        text-align: right;\n",
              "    }\n",
              "</style>\n",
              "<table border=\"1\" class=\"dataframe\">\n",
              "  <thead>\n",
              "    <tr style=\"text-align: right;\">\n",
              "      <th></th>\n",
              "      <th>ID</th>\n",
              "      <th>Sales</th>\n",
              "    </tr>\n",
              "  </thead>\n",
              "  <tbody>\n",
              "    <tr>\n",
              "      <th>0</th>\n",
              "      <td>T1188341</td>\n",
              "      <td>42275</td>\n",
              "    </tr>\n",
              "    <tr>\n",
              "      <th>1</th>\n",
              "      <td>T1188342</td>\n",
              "      <td>42275</td>\n",
              "    </tr>\n",
              "    <tr>\n",
              "      <th>2</th>\n",
              "      <td>T1188343</td>\n",
              "      <td>42275</td>\n",
              "    </tr>\n",
              "    <tr>\n",
              "      <th>3</th>\n",
              "      <td>T1188344</td>\n",
              "      <td>42275</td>\n",
              "    </tr>\n",
              "    <tr>\n",
              "      <th>4</th>\n",
              "      <td>T1188345</td>\n",
              "      <td>42275</td>\n",
              "    </tr>\n",
              "  </tbody>\n",
              "</table>\n",
              "</div>"
            ],
            "text/plain": [
              "         ID  Sales\n",
              "0  T1188341  42275\n",
              "1  T1188342  42275\n",
              "2  T1188343  42275\n",
              "3  T1188344  42275\n",
              "4  T1188345  42275"
            ]
          },
          "metadata": {},
          "execution_count": 316
        }
      ]
    },
    {
      "cell_type": "code",
      "metadata": {
        "id": "7c5d1767"
      },
      "source": [
        "sample_submission['Sales'] = test_df_preds"
      ],
      "id": "7c5d1767",
      "execution_count": 317,
      "outputs": []
    },
    {
      "cell_type": "code",
      "metadata": {
        "colab": {
          "base_uri": "https://localhost:8080/",
          "height": 203
        },
        "id": "444327d9",
        "outputId": "fd5258cb-d1be-4fa6-af7b-a01f5fac9577"
      },
      "source": [
        "sample_submission.head()"
      ],
      "id": "444327d9",
      "execution_count": 318,
      "outputs": [
        {
          "output_type": "execute_result",
          "data": {
            "text/html": [
              "<div>\n",
              "<style scoped>\n",
              "    .dataframe tbody tr th:only-of-type {\n",
              "        vertical-align: middle;\n",
              "    }\n",
              "\n",
              "    .dataframe tbody tr th {\n",
              "        vertical-align: top;\n",
              "    }\n",
              "\n",
              "    .dataframe thead th {\n",
              "        text-align: right;\n",
              "    }\n",
              "</style>\n",
              "<table border=\"1\" class=\"dataframe\">\n",
              "  <thead>\n",
              "    <tr style=\"text-align: right;\">\n",
              "      <th></th>\n",
              "      <th>ID</th>\n",
              "      <th>Sales</th>\n",
              "    </tr>\n",
              "  </thead>\n",
              "  <tbody>\n",
              "    <tr>\n",
              "      <th>0</th>\n",
              "      <td>T1188341</td>\n",
              "      <td>48523.259985</td>\n",
              "    </tr>\n",
              "    <tr>\n",
              "      <th>1</th>\n",
              "      <td>T1188342</td>\n",
              "      <td>35890.777399</td>\n",
              "    </tr>\n",
              "    <tr>\n",
              "      <th>2</th>\n",
              "      <td>T1188343</td>\n",
              "      <td>70520.493712</td>\n",
              "    </tr>\n",
              "    <tr>\n",
              "      <th>3</th>\n",
              "      <td>T1188344</td>\n",
              "      <td>33035.682786</td>\n",
              "    </tr>\n",
              "    <tr>\n",
              "      <th>4</th>\n",
              "      <td>T1188345</td>\n",
              "      <td>36185.318223</td>\n",
              "    </tr>\n",
              "  </tbody>\n",
              "</table>\n",
              "</div>"
            ],
            "text/plain": [
              "         ID         Sales\n",
              "0  T1188341  48523.259985\n",
              "1  T1188342  35890.777399\n",
              "2  T1188343  70520.493712\n",
              "3  T1188344  33035.682786\n",
              "4  T1188345  36185.318223"
            ]
          },
          "metadata": {},
          "execution_count": 318
        }
      ]
    },
    {
      "cell_type": "code",
      "metadata": {
        "id": "9f598f07"
      },
      "source": [
        "sample_submission.to_csv('random_forest_tuned_submission.csv',index=False)"
      ],
      "id": "9f598f07",
      "execution_count": 319,
      "outputs": []
    },
    {
      "cell_type": "markdown",
      "metadata": {
        "id": "B-plnv2D6BFs"
      },
      "source": [
        "## Saving the Trained Model"
      ],
      "id": "B-plnv2D6BFs"
    },
    {
      "cell_type": "code",
      "metadata": {
        "id": "b0a87948"
      },
      "source": [
        "#loading the package pickle\n",
        "import pickle"
      ],
      "id": "b0a87948",
      "execution_count": 320,
      "outputs": []
    },
    {
      "cell_type": "code",
      "metadata": {
        "id": "GecnT82r5-xg"
      },
      "source": [
        "#saving the trained model into a pkl binary file\n",
        "file = open('sales_prediction_model.pkl','wb')\n",
        "pickle.dump(model,file)"
      ],
      "id": "GecnT82r5-xg",
      "execution_count": 321,
      "outputs": []
    }
  ]
}